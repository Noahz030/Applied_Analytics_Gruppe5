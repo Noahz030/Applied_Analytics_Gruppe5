{
 "cells": [
  {
   "cell_type": "code",
   "execution_count": 22,
   "metadata": {},
   "outputs": [],
   "source": [
    "# needed imports for this notebook\n",
    "import numpy as np\n",
    "import matplotlib.pyplot as plt\n",
    "import pandas as pd\n",
    "import seaborn as sns\n",
    "import sweetviz as sv\n",
    "\n"
   ]
  },
  {
   "cell_type": "code",
   "execution_count": 107,
   "metadata": {},
   "outputs": [],
   "source": [
    "# load csv file ad pandas dataframe\n",
    "df_original = pd.read_csv('D:\\FU WINFO\\I\\Applied Analytics\\kip_sdm_syn.csv')"
   ]
  },
  {
   "cell_type": "code",
   "execution_count": 45,
   "metadata": {},
   "outputs": [
    {
     "data": {
      "application/vnd.jupyter.widget-view+json": {
       "model_id": "71ef23a20d4640f7828c64cd168b4a56",
       "version_major": 2,
       "version_minor": 0
      },
      "text/plain": [
       "                                             |          | [  0%]   00:00 -> (? left)"
      ]
     },
     "metadata": {},
     "output_type": "display_data"
    }
   ],
   "source": [
    "#run sweetviz on df to generate report\n",
    "report_original = sv.analyze(df_original)\n"
   ]
  },
  {
   "cell_type": "code",
   "execution_count": 46,
   "metadata": {},
   "outputs": [
    {
     "name": "stdout",
     "output_type": "stream",
     "text": [
      "Report D:\\FU WINFO\\I\\Applied Analytics\\kip_sdm_syn_report_oiriginal.html was generated! NOTEBOOK/COLAB USERS: the web browser MAY not pop up, regardless, the report IS saved in your notebook/colab files.\n"
     ]
    }
   ],
   "source": [
    "# show sweetviz report\n",
    "report_original.show_html('D:\\FU WINFO\\I\\Applied Analytics\\kip_sdm_syn_report_oiriginal.html')"
   ]
  },
  {
   "cell_type": "code",
   "execution_count": 121,
   "metadata": {},
   "outputs": [],
   "source": [
    "# ignore columns \"fall-while_stay\" and \"fall-while_transfer\" as they are already included in outcome and not relevant for general risk assessment\n",
    "columns_to_drop = [\"fall-while_stay\", \"fall-while_transfer\"]\n",
    "df = df_original.drop(columns=columns_to_drop)"
   ]
  },
  {
   "cell_type": "code",
   "execution_count": 122,
   "metadata": {},
   "outputs": [],
   "source": [
    "# if walk-impairment empty and (walking_aid == 1 or walk_jones not empty), then set walk-impairment to 1\n",
    "# Iterate through rows and update 'walk-impairment' based on the condition\n",
    "for index, row in df.iterrows():\n",
    "    if pd.isna(row['walk-impairment']):  # Check if 'walk-impairment' is NaN\n",
    "        if row['walking_aid'] == 1:  # Check if 'walking_aid' is 1\n",
    "            df.at[index, 'walk-impairment'] = 1  # Set 'walk-impairment' to 1\n",
    "        elif pd.notna(row['walk-jones']):  # Check if 'walk-jones' is not NaN\n",
    "            df.at[index, 'walk-impairment'] = 1  # Set 'walk-impairment' to 1\n"
   ]
  },
  {
   "cell_type": "code",
   "execution_count": 123,
   "metadata": {},
   "outputs": [],
   "source": [
    "# convert bed_mobility-jones, transfer and walk-jones to one-hot encoded columns\n",
    "# Assuming `columns_to_transform` is the list of columns you want to transform\n",
    "columns_to_transform = ['bed_mobility-jones', 'transfer', 'walk-jones']  # Replace with your column names\n",
    "\n",
    "for col in columns_to_transform:\n",
    "    # Create one-hot encoded columns for each distinct value in the column\n",
    "    dummies = pd.get_dummies(df[col], prefix=col)\n",
    "    # Add the new columns to the DataFrame\n",
    "    df = pd.concat([df, dummies], axis=1)\n",
    "    # Drop the original column\n",
    "    df = df.drop(columns=[col])"
   ]
  },
  {
   "cell_type": "code",
   "execution_count": 124,
   "metadata": {},
   "outputs": [],
   "source": [
    "# Convert all boolean columns to numeric (False -> 0, True -> 1, NA -> NaN)\n",
    "bool_columns = [\n",
    "    col for col in df.columns \n",
    "    if df[col].dropna().isin([True, False]).all()\n",
    "]\n",
    "df[bool_columns] = df[bool_columns].astype('Int64')\n"
   ]
  },
  {
   "cell_type": "code",
   "execution_count": 126,
   "metadata": {},
   "outputs": [
    {
     "name": "stderr",
     "output_type": "stream",
     "text": [
      "C:\\Users\\Veit\\AppData\\Local\\Temp\\ipykernel_22120\\1550453215.py:10: FutureWarning: Downcasting behavior in `replace` is deprecated and will be removed in a future version. To retain the old behavior, explicitly call `result.infer_objects(copy=False)`. To opt-in to the future behavior, set `pd.set_option('future.no_silent_downcasting', True)`\n",
      "  df[columns_to_modify] = df[columns_to_modify].replace(value_mapping)\n"
     ]
    }
   ],
   "source": [
    "# 2. decubitus-risk & fall-risk: adjust columns having \"+\" and \"++\" values to numerical values\n",
    "columns_to_modify = [\"decubitus-risk\", \"fall-risk\"] \n",
    "\n",
    "value_mapping = {\n",
    "    '0': 0,\n",
    "    '+': 1,\n",
    "    '++': 2\n",
    "}\n",
    "\n",
    "df[columns_to_modify] = df[columns_to_modify].replace(value_mapping)"
   ]
  },
  {
   "cell_type": "code",
   "execution_count": 127,
   "metadata": {},
   "outputs": [],
   "source": [
    "# sex: transform to numeric binary value \n",
    "\n",
    "df['is_male'] = df['sex'].apply(lambda x: 1 if x == 'male' else 0)\n",
    "# Drop the 'sex' column\n",
    "df = df.drop(columns=['sex'])\n"
   ]
  },
  {
   "cell_type": "code",
   "execution_count": 128,
   "metadata": {},
   "outputs": [],
   "source": [
    "# decubitus-admission, medical_items-A_V_system: drop since only distinct value is \"False\"\n",
    "columns_to_drop = [\"decubitus-admission\", \"medical_items-A_V_system\"]\n",
    "df = df.drop(columns=columns_to_drop)"
   ]
  },
  {
   "cell_type": "code",
   "execution_count": null,
   "metadata": {},
   "outputs": [],
   "source": [
    "# replace NA with nan (otherwise sweetviz fails)\n",
    "df = df.replace({pd.NA: np.nan})"
   ]
  },
  {
   "cell_type": "code",
   "execution_count": 132,
   "metadata": {},
   "outputs": [
    {
     "name": "stdout",
     "output_type": "stream",
     "text": [
      "fallen                                                Int64\n",
      "id                                                    int64\n",
      "age                                                   int64\n",
      "procedure                                            object\n",
      "diagnosis                                            object\n",
      "c_zriserh1                                            Int64\n",
      "decubitus-at_the_moment                               Int64\n",
      "bed_mobility-impairment                               Int64\n",
      "bed_mobility-skin_condition                           Int64\n",
      "transfer-impairment                                   Int64\n",
      "medical_items                                         Int64\n",
      "medical_items-arm_or_leg_splint                       Int64\n",
      "medical_items-plaster_or_neck_brace                   Int64\n",
      "medical_items-compression_stocking                    Int64\n",
      "medical_items-ventilation_mask                        Int64\n",
      "medical_items-O2_glasses                              Int64\n",
      "medical_items-orthesis                                Int64\n",
      "medical_items-prosthesis                              Int64\n",
      "medical_items-skin_condition_at_item_application      Int64\n",
      "fall-last_12_month                                    Int64\n",
      "fall-how_many_last_12_month                         float64\n",
      "walk-impairment                                       Int64\n",
      "walk-balance_and_gait_impaired                        Int64\n",
      "walking_aid                                           Int64\n",
      "excretions-impairment                                 Int64\n",
      "excretions-incontinence                               Int64\n",
      "excretions-nykturie                                   Int64\n",
      "cognition-impairment                                  Int64\n",
      "cognition-disoriented_time                            Int64\n",
      "cognition-disoriented_location                        Int64\n",
      "cognition-disoriented_own_person                      Int64\n",
      "cognition-agitated                                    Int64\n",
      "cognition-confused                                    Int64\n",
      "psychotropic_or_sedatives_drugs                       Int64\n",
      "decubitus-risk                                      float64\n",
      "fall-risk                                           float64\n",
      "diseases                                              Int64\n",
      "bed_mobility-jones_1                                  Int64\n",
      "bed_mobility-jones_2                                  Int64\n",
      "bed_mobility-jones_3                                  Int64\n",
      "bed_mobility-jones_4A                                 Int64\n",
      "bed_mobility-jones_4B                                 Int64\n",
      "transfer_1                                            Int64\n",
      "transfer_2                                            Int64\n",
      "transfer_3                                            Int64\n",
      "transfer_4A                                           Int64\n",
      "transfer_4B                                           Int64\n",
      "walk-jones_1                                          Int64\n",
      "walk-jones_2                                          Int64\n",
      "walk-jones_3                                          Int64\n",
      "walk-jones_4A                                         Int64\n",
      "walk-jones_4B                                         Int64\n",
      "is_male                                               int64\n",
      "dtype: object\n"
     ]
    }
   ],
   "source": [
    "print(df.dtypes)"
   ]
  },
  {
   "cell_type": "code",
   "execution_count": null,
   "metadata": {},
   "outputs": [
    {
     "data": {
      "application/vnd.jupyter.widget-view+json": {
       "model_id": "b6bfa7caa1e445408f35edbf0b1f06ab",
       "version_major": 2,
       "version_minor": 0
      },
      "text/plain": [
       "                                             |          | [  0%]   00:00 -> (? left)"
      ]
     },
     "metadata": {},
     "output_type": "display_data"
    }
   ],
   "source": [
    "#run sweetviz on df to generate report\n",
    "report = sv.analyze(df)\n"
   ]
  },
  {
   "cell_type": "code",
   "execution_count": 43,
   "metadata": {},
   "outputs": [
    {
     "name": "stdout",
     "output_type": "stream",
     "text": [
      "Report D:\\FU WINFO\\I\\Applied Analytics\\kip_sdm_syn_report.html was generated! NOTEBOOK/COLAB USERS: the web browser MAY not pop up, regardless, the report IS saved in your notebook/colab files.\n"
     ]
    }
   ],
   "source": [
    "# show sweetviz report\n",
    "report.show_html('D:\\FU WINFO\\I\\Applied Analytics\\kip_sdm_syn_report.html')"
   ]
  },
  {
   "cell_type": "code",
   "execution_count": null,
   "metadata": {},
   "outputs": [],
   "source": [
    "from sklearn.preprocessing import LabelEncoder\n",
    "\n",
    "# Create a copy of the DataFrame to avoid modifying the original\n",
    "df_encoded = df.copy()\n",
    "\n",
    "# Encode non-numerical columns using LabelEncoder\n",
    "for column in df_encoded.select_dtypes(include=[\"object\", \"category\"]).columns:\n",
    "    le = LabelEncoder()\n",
    "    df_encoded[column] = le.fit_transform(df_encoded[column].astype(str))  # Convert to string before encoding\n",
    "\n",
    "# Identify columns with mixed types and convert them to strings before encoding\n",
    "for column in df_encoded.columns:\n",
    "    if df_encoded[column].apply(type).nunique() > 1:  # Check for mixed types\n",
    "        df_encoded[column] = df_encoded[column].astype(str)\n",
    "\n",
    "# Calculate the correlation of each column with the binary outcome variable 'fallen'\n",
    "correlations = df_encoded.corr()[\"fallen\"].drop(\"fallen\")\n",
    "\n",
    "# Sort the correlations in descending order\n",
    "sorted_correlations = correlations.sort_values(ascending=False)\n",
    "\n",
    "# Format and display the sorted correlations as a list\n",
    "for column, correlation in sorted_correlations.items():\n",
    "    print(f\"{column}: {correlation}\")"
   ]
  },
  {
   "cell_type": "code",
   "execution_count": 117,
   "metadata": {},
   "outputs": [
    {
     "name": "stdout",
     "output_type": "stream",
     "text": [
      "Unique values in 'sex': ['2' nan '1' '4B' '3' '4A'], length: 6\n"
     ]
    }
   ],
   "source": [
    "# Print all unique values in the 'sex' column\n",
    "unique_values = df_original['walk-jones'].unique()\n",
    "print(f\"Unique values in 'sex': {unique_values}, length: {len(unique_values)}\")"
   ]
  },
  {
   "cell_type": "code",
   "execution_count": null,
   "metadata": {},
   "outputs": [],
   "source": []
  }
 ],
 "metadata": {
  "kernelspec": {
   "display_name": "aa_tuesday",
   "language": "python",
   "name": "python3"
  },
  "language_info": {
   "codemirror_mode": {
    "name": "ipython",
    "version": 3
   },
   "file_extension": ".py",
   "mimetype": "text/x-python",
   "name": "python",
   "nbconvert_exporter": "python",
   "pygments_lexer": "ipython3",
   "version": "3.9.21"
  }
 },
 "nbformat": 4,
 "nbformat_minor": 2
}
